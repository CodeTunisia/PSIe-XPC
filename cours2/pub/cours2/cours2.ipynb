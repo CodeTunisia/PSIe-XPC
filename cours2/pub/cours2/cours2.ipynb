{
 "cells": [
  {
   "cell_type": "markdown",
   "metadata": {},
   "source": [
    "<!-- dom:TITLE: Chapitre 2 : Programmation Orientée Objet -->\n",
    "# Chapitre 2 : Programmation Orientée Objet\n",
    "<!-- dom:AUTHOR: Ahmed Ammar at Institut Préparatoire aux Études Scientifiques et Techniques, Université de Carthage. -->\n",
    "<!-- Author: -->  \n",
    "**Ahmed Ammar**, Institut Préparatoire aux Études Scientifiques et Techniques, Université de Carthage.\n",
    "\n",
    "\n",
    "Date: **Nov 7, 2020**\n",
    "\n",
    "# Introduction\n",
    "La Programmation Orientée Objet (POO) est une discipline de programmation dans laquelle le programmeur établit :\n",
    "* non seulement les structures de données,\n",
    "\n",
    "* mais aussi les opérations qui peuvent leurs être appliquées.\n",
    "\n",
    "Ainsi,\n",
    "* la structure de données devient un **objet** qui inclut\n",
    "\n",
    " * Données, appelées **attributs**\n",
    "\n",
    " * Opérations, appelées **méthodes**\n",
    "\n",
    "\n",
    "* Le programmeur peut définir des **relations** entre les objets\n",
    "\n",
    "# Classe et Objet\n",
    "## Définitions\n",
    "Une **classe** est équivalente à un nouveau type de données. On connaît déjà par exemple les classes `list` ou `str` et les nombreuses méthodes permettant de les manipuler, par exemple :\n",
    "* `[3, 5, 1].sort()`\n",
    "\n",
    "* `casse.upper()`\n",
    "\n",
    "Un **objet** ou une **instance** est un exemplaire particulier d'une classe. Par exemple `[3, 5, 1]` est une instance de la classe `list` et `casse` est une instance de la classe `str`.\n",
    "\n",
    "Les objets ont généralement deux sortes d'attributs : les données nommées simplement **attributs** et les fonctions applicables appelées **méthodes**.\n",
    "\n",
    "Par exemple un objet de la classe `complex` possède :\n",
    "* deux attributs : `imag` et `real` ;\n",
    "\n",
    "* plusieurs méthodes, comme `conjugate()`, `abs()`...\n",
    "\n",
    "La plupart des classes encapsulent à la fois les données et les méthodes applicables aux objets. Par exemple un objet `str` contient une chaîne de caractères Unicode (les données) et de nombreuses méthodes.\n",
    "\n",
    "On peut définir un *objet* comme une *capsule* contenant des **attributs** et des **méthodes**.\n",
    "\n",
    "## Création de classe en Python\n",
    "Une nouvelle classe est définie par le mot-clé `class`.\n",
    "\n",
    "**Syntaxe de la création :**"
   ]
  },
  {
   "cell_type": "markdown",
   "metadata": {},
   "source": [
    "```Python\n",
    "        class NomDeLaClasse:\n",
    "          # Définition des attributs de la classe\n",
    "          nom_attr = valeur # attribut de valeur commune pour toutes les instances\n",
    "          ...\n",
    "          # Définition des attributs d'objet (chaque instance a sa propre valeur)\n",
    "          def __init__(self, parametres): # le constructeur de l'objet\n",
    "            self.nomattr1= v1\n",
    "            self.nomattr2= v2\n",
    "            ...\n",
    "        \n",
    "          # Définition des méthodes\n",
    "          def nom_methode(self, autres_parametres):\n",
    "            # Corps de la méthode\n",
    "```"
   ]
  },
  {
   "cell_type": "markdown",
   "metadata": {},
   "source": [
    "Une classe permet de définir (déclarer) l'ensemble attributs et méthodes relatives à une catégorie d'objets.\n",
    "* **Attributs de classe :** Un attribut de classe est défini au niveau de la classe et sa valeur est partagée par tous les objets instanciés de cette classe. L'accès à l'attribut est donné par : `NomDeLaClasse.nom_attribut`\n",
    "\n",
    "* **Attributs d'objets :** Un attribut d'objet est défini au niveau de la méthode constructeur. La valeur d'un attribut d'objet est propre à chaque objet. L'accès à l'attribut est donné par : `nom_Objet.nom_attribut`\n",
    "\n",
    "* **Le constructeur d'objet :** Le constructeur est une méthode particulière appelée lors de la création d'un nouvel objet permettant d'initialiser ses attributs. Le constructeur se définit dans une classe comme une fonction avec deux particularités :\n",
    "\n",
    "  * le nom de la méthode doit être `__init__` ;\n",
    "\n",
    "  * la méthode doit accepter au moins un paramètre de nom `self` qui apparaît en premier.\n",
    "\n",
    "\n",
    "* **Le paramètre self :** Le paramètre `self` représente en fait l'objet cible, c'est-à-dire que c'est une variable qui référence l'objet en cours de création et permettant d'accéder à ses attributs et fonctionnalités.\n",
    "\n",
    "* **Les méthodes :** Une méthode est une fonction qui agit principalement sur une instance de la classe. Elle doit accepter au moins le paramètre `self` figurant en première position. L'appel d'une méthode se fait par : `nom_Objet.nom_méthode(autres paramètres)`\n",
    "\n",
    "## Exemple : Une classe pour comptes bancaires\n",
    "\n",
    "Le concept de compte bancaire dans un programme est un bon candidat pour un cours. Le compte comporte certaines données, généralement le nom du titulaire du compte, le numéro de compte et le solde courant. Trois choses que l'on peut faire avec un compte, c'est retirer de l'argent, mettre de l'argent sur le compte et imprimer les données du compte. Ces actions sont modélisées par des méthodes. Avec une classe, nous pouvons regrouper les données et les actions dans un nouveau type de données de sorte qu'un compte corresponde à une variable d'un programme.\n",
    "\n",
    "Elle est créée ainsi :"
   ]
  },
  {
   "cell_type": "code",
   "execution_count": 1,
   "metadata": {
    "collapsed": false
   },
   "outputs": [],
   "source": [
    "# Création de la classe CompteBancaire\n",
    "class CompteBancaire:\n",
    "    nomBanque = 'BIAT'\t#Attributs de classe\n",
    "    def __init__(self, nom, num_compte, montant_initial):\n",
    "\t# Attributs d'objet\n",
    "        self.nom = nom\n",
    "        self.no = num_compte\n",
    "        self.sold = montant_initial\n",
    "\n",
    "    # Méthodes\n",
    "    def depot(self, montant):\n",
    "        self.sold += montant\n",
    "        \n",
    "    def retrait(self, montant):\n",
    "        if self.sold >= montant:\n",
    "            self.sold -= montant\n",
    "        else:\n",
    "            raise Exception('retrait impossible')\n",
    "    def decharge(self):\n",
    "        s = \"{}, {}, solde : {}\".format(self.nom, self.no, self.sold)\n",
    "        print(s)"
   ]
  },
  {
   "cell_type": "markdown",
   "metadata": {},
   "source": [
    "La classe `CompteBancaire` définie par:\n",
    "* **Les attributs:**\n",
    "\n",
    " * Attributs de classe : `nomBanque` (nom de la banque);\n",
    "\n",
    " * Attributs d'objet : `no` (numéro du compte), `nom` (nom du propriétaire) et `sold` (solde).\n",
    "\n",
    "\n",
    "* **Les méthodes :** `depot`, `decharge` et `retrait`.\n",
    "\n",
    "<!-- dom:FIGURE: [scripts/classes_CompteBancaire.png, width=150 frac=0.5] Diagramme de classe `CompteBancaire`. -->\n",
    "<!-- begin figure -->\n",
    "\n",
    "<p>Diagramme de classe <code>CompteBancaire</code>.</p>\n",
    "<img src=\"scripts/classes_CompteBancaire.png\" width=150>\n",
    "\n",
    "<!-- end figure -->\n",
    "\n",
    "\n",
    "## Création d'objets en Python\n",
    "La création d'une **instance** (objet) d'une classe donnée se fait par un appel au nom de la classe avec les paramètres effectifs du constructeur, selon la syntaxe suivante :"
   ]
  },
  {
   "cell_type": "markdown",
   "metadata": {},
   "source": [
    "```Python\n",
    "        >>> nom_obj = NomClasse(paramètres effectifs du constructeur)\n",
    "```"
   ]
  },
  {
   "cell_type": "markdown",
   "metadata": {},
   "source": [
    "Voici un test simple de la façon dont la classe `CompteBancaire` peut être utilisée :"
   ]
  },
  {
   "cell_type": "code",
   "execution_count": 2,
   "metadata": {
    "collapsed": false
   },
   "outputs": [],
   "source": [
    "c1 = CompteBancaire('Mohamed Ahmed', '19371554951', 20000)\n",
    "c2 = CompteBancaire('Ali Tounsi',  '19371564761', 10000)\n",
    "c1.depot(1000)\n",
    "c1.retrait(4000)\n",
    "c2.retrait(8750)\n",
    "c1.retrait(1250)\n",
    "print(\"le solde de c1 : \", c1.sold)"
   ]
  },
  {
   "cell_type": "code",
   "execution_count": 3,
   "metadata": {
    "collapsed": false
   },
   "outputs": [],
   "source": [
    "c1.decharge()"
   ]
  },
  {
   "cell_type": "markdown",
   "metadata": {},
   "source": [
    "## Constructeur\n",
    "\n",
    "Les constructeurs sont généralement utilisés pour **instancier un objet**. La tâche des constructeurs consiste à initialiser (attribuer des valeurs) aux attributs de la classe lorsqu'un objet de la classe est créé.\n",
    "\n",
    "En Python, la méthode `__init__()` est appelée le constructeur et est toujours appelée. quand un objet est créé.\n",
    "\n",
    "**Types de constructeurs :**\n",
    "\n",
    "* **Constructeur par défaut** : le constructeur par défaut est un constructeur simple qui n’accepte aucun argument. Sa définition n’a qu’un seul argument qui soit une référence à l’instance en cours de construction.\n",
    "\n",
    "* **Constructeur paramétré** : Le constructeur paramétré prend son premier argument en tant que référence à l'instance en cours de construction, appelée self, et le reste des arguments est fourni par le programmeur.\n",
    "\n",
    "En python, on ne peut définir qu'un seul constructeur :"
   ]
  },
  {
   "cell_type": "markdown",
   "metadata": {},
   "source": [
    "```Python\n",
    "        class Personne:\n",
    "            nom=''\n",
    "            prenom=''\n",
    "        \n",
    "            # constructeur de la classe\n",
    "            def __init__(self, nom, prenom):\n",
    "                self.nom=nom\n",
    "                self.prenom=prenom\n",
    "```"
   ]
  },
  {
   "cell_type": "markdown",
   "metadata": {},
   "source": [
    "## Destructeur\n",
    "Les destructeurs sont appelés lorsqu'un objet est détruit. En Python, les destructeurs ne sont pas aussi nécessaires que en d'autres langages de programmation, car Python dispose d'un **ramasse-miettes** qui gère automatiquement la gestion de la mémoire.\n",
    "\n",
    "La méthode `__del __()` est une méthode appelée **destructeur** en Python. Il est appelé lorsque toutes les références à l’objet ont été supprimées, c’est-à-dire lorsqu’un objet est nettoyé.\n",
    "\n",
    "**Exemple 1 : Classe Tableau :**\n",
    "\n",
    "Voici un exemple simple de destructeur :"
   ]
  },
  {
   "cell_type": "code",
   "execution_count": 4,
   "metadata": {
    "collapsed": false
   },
   "outputs": [],
   "source": [
    "class Tableau:\n",
    "    donnee=[]\n",
    "    # constructeur de la classe\n",
    "    def __init__(self):\n",
    "        #initialiser le tableau avec 100 éléments\n",
    "        self.donnee=[0]*100\n",
    "\n",
    "    def __del__(self):\n",
    "        print(\"je suis le destructeur\")\n",
    "        # vider le tableau\n",
    "        self.donnee.clear()"
   ]
  },
  {
   "cell_type": "markdown",
   "metadata": {},
   "source": [
    "En utilisant le mot-clé `del`, nous avons supprimé toutes les références de l’objet `tab`. Le destructeur est donc invoqué automatiquement."
   ]
  },
  {
   "cell_type": "code",
   "execution_count": 5,
   "metadata": {
    "collapsed": false
   },
   "outputs": [],
   "source": [
    "tab = Tableau()\n",
    "del tab"
   ]
  },
  {
   "cell_type": "markdown",
   "metadata": {},
   "source": [
    "**Notice.**\n",
    "\n",
    "Le destructeur est appeler à la fin du programme ou lorsque toutes les références à l'objet ont été supprimées. C'est-à-dire que le nombre de références devient zéro, et non lorsque l'objet est sorti de la portée.\n",
    "\n",
    "\n",
    "\n",
    "**Exemple 2 : Classe Personne :**\n",
    "\n",
    "Cet exemple donne une explication de la note."
   ]
  },
  {
   "cell_type": "code",
   "execution_count": 6,
   "metadata": {
    "collapsed": false
   },
   "outputs": [],
   "source": [
    "class Personne:\n",
    " \n",
    "    # constructeur de la classe\n",
    "    def __init__(self, nom, prenom):      \n",
    "        self.nom = nom\n",
    "        self.prenom = prenom\n",
    " \n",
    "    def __del__(self): \n",
    "        print(\"je suis le destructeur\")"
   ]
  },
  {
   "cell_type": "code",
   "execution_count": 7,
   "metadata": {
    "collapsed": false
   },
   "outputs": [],
   "source": [
    "def creation():\n",
    "    print(\"creation de l'objet\")\n",
    "    p = Personne('TOUNSI','Mohamed')\n",
    "    print('fin de la création')\n",
    "    return p\n",
    "\n",
    "print(\"Début du programme\")\n",
    "p1=creation()\n",
    "print(\"Je suis {} {}, je suis un objet d'ID : {}\".format(p1.nom, p1.prenom, id(p1)))\n",
    "print(\"fin du programme\")\n",
    "del p1"
   ]
  },
  {
   "cell_type": "markdown",
   "metadata": {},
   "source": [
    "Notez que le destructeur est appelé après l'affichage de *\"Fin du programme...\"*\n",
    "\n",
    "# Méthodes spéciales et surcharge des opérateurs\n",
    "Certaines méthodes de classe ont des noms qui commencent et se terminent par un double trait de soulignement. Ces méthodes permettent une syntaxe spéciale dans le programme et sont appelées **méthodes spéciales**. Le constructeur `__init__()` en est un exemple. Cette méthode est automatiquement appelée lorsqu'une instance est créée, mais nous n'avons pas besoin d'écrire explicitement `__init__()`. D'autres méthodes spéciales permettent d'effectuer des opérations arithmétiques avec des instances, de comparer des instances avec `>`, `>=`, `!=`, etc., d'appeler des instances comme nous appelons les fonctions ordinaires, et de tester si une instance évalue à Vrai ou Faux, pour mentionner certaines possibilités.\n",
    "\n",
    "La **surcharge** permet à un opérateur de **posséder un sens différent** suivant le **type** de ses opérandes.\n",
    "\n",
    "Par exemple, l'opérateur `+` permet :"
   ]
  },
  {
   "cell_type": "markdown",
   "metadata": {},
   "source": [
    "```Python\n",
    "        x = 7 + 9 # addition entière\n",
    "        s = 'ab' + 'cd' # concaténation\n",
    "```"
   ]
  },
  {
   "cell_type": "markdown",
   "metadata": {},
   "source": [
    "Python possède des méthodes de surcharge pour :\n",
    "* tous les types (`__call__`, `__str__` ...) ;\n",
    "\n",
    "* les nombres (`__add__`, `__div__` ...) ;\n",
    "\n",
    "* les séquences (`__len__`, `__iter__` ...).\n",
    "\n",
    "## Surcharge de l'appel fonctionnel\n",
    "La méthode `__call__` permet aux programmeurs Python d'écrire des classes dont les instances se comportent comme des fonctions et peuvent être appelées comme une fonction. Lorsque l'instance est appelée comme une fonction ; si cette méthode est définie, `objet(arg1, arg2, ...)` est une abréviation de `objet.__call__(arg1, arg2, ...)`.\n",
    "\n",
    "**Exemple :**"
   ]
  },
  {
   "cell_type": "code",
   "execution_count": 8,
   "metadata": {
    "collapsed": false
   },
   "outputs": [],
   "source": [
    "class Produit:\n",
    "\tdef __init__(self):\n",
    "\t\tprint(\"Création de l'instance\")\n",
    "\n",
    "\t# Définir la méthode __call__.\n",
    "\tdef __call__(self, a, b):\n",
    "\t\tprint(a * b)\n",
    "\n",
    "# Création de l'instance\n",
    "ans = Produit()\n",
    "\n",
    "# La méthode __call__ sera appelée\n",
    "ans(10, 20)"
   ]
  },
  {
   "cell_type": "markdown",
   "metadata": {},
   "source": [
    "## Représentation formelle d'un objet\n",
    "\n",
    "Pour afficher les informations relatives à un objet, en utilisant le nom de l'objet (représentation sur le shell) ou en utilisant la commande `print()` , il faut surcharger la méthode spéciale `__repr__` :"
   ]
  },
  {
   "cell_type": "markdown",
   "metadata": {},
   "source": [
    "```Python\n",
    "        def __repr__(self):\n",
    "          return #la chaine qu'on veut afficher\n",
    "```"
   ]
  },
  {
   "cell_type": "markdown",
   "metadata": {},
   "source": [
    "**Exemple :**"
   ]
  },
  {
   "cell_type": "code",
   "execution_count": 9,
   "metadata": {
    "collapsed": false
   },
   "outputs": [],
   "source": [
    "class point:\n",
    "    def __init__(self,a,b):\n",
    "        self.x=a\n",
    "        self.y=b\n",
    "    def __repr__(self):\n",
    "        return (str((self.x , self.y)))"
   ]
  },
  {
   "cell_type": "code",
   "execution_count": 10,
   "metadata": {
    "collapsed": false
   },
   "outputs": [],
   "source": [
    "p=point(2,3)\n",
    "p # l'exécution de l'évaluation de p fait appel à __repr__"
   ]
  },
  {
   "cell_type": "code",
   "execution_count": 11,
   "metadata": {
    "collapsed": false
   },
   "outputs": [],
   "source": [
    "print(p) # l'exécution de print fait appel à la méthode __repr__"
   ]
  },
  {
   "cell_type": "markdown",
   "metadata": {},
   "source": [
    "## Représentation informelle d'un objet\n",
    "\n",
    "Pour donner une représentation textuelle informelle à un objet, il suffit de surcharger la méthode spéciale `__str__` :"
   ]
  },
  {
   "cell_type": "markdown",
   "metadata": {},
   "source": [
    "```Python\n",
    "        def __str__(self):\n",
    "          return #la chaine qu'on veut afficher\n",
    "```"
   ]
  },
  {
   "cell_type": "markdown",
   "metadata": {},
   "source": [
    "**Exemple 1 :**"
   ]
  },
  {
   "cell_type": "code",
   "execution_count": 12,
   "metadata": {
    "collapsed": false
   },
   "outputs": [],
   "source": [
    "class point:\n",
    "    def __init__(self,a,b):\n",
    "        self.x=a\n",
    "        self.y=b\n",
    "    def __str__(self):\n",
    "        return 'point' + str((self.x , self.y))"
   ]
  },
  {
   "cell_type": "code",
   "execution_count": 13,
   "metadata": {
    "collapsed": false
   },
   "outputs": [],
   "source": [
    "p = point(2,3)\n",
    "p #sans redéfinir __repr__ l'exécution renvoie la référence de l'objet"
   ]
  },
  {
   "cell_type": "code",
   "execution_count": 14,
   "metadata": {
    "collapsed": false
   },
   "outputs": [],
   "source": [
    "print(p) # l'exécution de print fait appel à la méthode __str__"
   ]
  },
  {
   "cell_type": "markdown",
   "metadata": {},
   "source": [
    "**Exemple 2 :**"
   ]
  },
  {
   "cell_type": "code",
   "execution_count": 15,
   "metadata": {
    "collapsed": false
   },
   "outputs": [],
   "source": [
    "class point:\n",
    "    def __init__(self,a,b):\n",
    "        self.x=a\n",
    "        self.y=b\n",
    "    def __repr__(self):\n",
    "        return str((self.x , self.y))\n",
    "    def __str__(self):\n",
    "        return 'point' + str((self.x , self.y))"
   ]
  },
  {
   "cell_type": "code",
   "execution_count": 16,
   "metadata": {
    "collapsed": false
   },
   "outputs": [],
   "source": [
    "p = point(2,3)\n",
    "p # l'exécution de l'évaluation de p fait appel à __repr__"
   ]
  },
  {
   "cell_type": "code",
   "execution_count": 17,
   "metadata": {
    "collapsed": false
   },
   "outputs": [],
   "source": [
    "print(p) # l'exécution de print fait appel à la méthode __str__"
   ]
  },
  {
   "cell_type": "markdown",
   "metadata": {},
   "source": [
    "## Surcharge des opérateurs\n",
    "La surcharge d'opérateurs permet la redéfinition et l'utilisation des opérateurs en fonction de la classe. Par exemple, l'utilisation de l'opérateur `+` pour additionner deux objets de même type.\n",
    "\n",
    "Python associe à chaque opérateur une méthode spéciale qu'on peut surcharger, on cite dans la suite quelques\n",
    "exemples :\n",
    "* Exemples des méthodes spéciales permettant la surcharge des opérateurs arithmétiques :\n",
    "\n",
    " * opérateurs unaires :\n",
    "\n",
    "  * `+` : `__pos__(self)`\n",
    "\n",
    "  * `-` : `__neg__(self)`\n",
    "\n",
    "\n",
    " * opérateurs binaires :\n",
    "\n",
    "  * `+` : `__add__(self,other)`\n",
    "\n",
    "  * `*` : `__mul__(self, other)`\n",
    "\n",
    "  * `-` : `__sub__(self,other)`\n",
    "\n",
    "  * ...\n",
    "\n",
    "\n",
    "\n",
    "* Exemples des méthodes spéciales permettant la surcharge des opérateurs de comparaison :\n",
    "\n",
    " * `==` : `__eq__(self,other)`\n",
    "\n",
    " * `!=` : `__ne__(self, other)`\n",
    "\n",
    " * `>` : `__gt__(self,other)`\n",
    "\n",
    " * ...\n",
    "\n",
    "\n",
    "* Exemples des méthodes spéciales permettant la surcharge des opérateurs d'indexation :\n",
    "\n",
    " * `objet[i]` : `__getitem__(self,indice)`\n",
    "\n",
    " * `objet[i] = v` : `__setitem__(self,indice,valeur)`\n",
    "\n",
    "\n",
    "## Exemple : Classe pour les vecteurs dans le plan\n",
    "Cette partie explique comment implémenter des vecteurs bidimensionnels en Python de telle sorte que ces vecteurs agissent comme des objets que nous pouvons ajouter, soustraire, former des produits internes avec, et faire d'autres opérations mathématiques.\n",
    "\n",
    "Les vecteurs dans le plan sont décrits par une paire de nombres réels, $(a,b)$. Il existe des règles mathématiques pour ajouter et soustraire des vecteurs, multiplier deux vecteurs (le produit intérieur ou point ou scalaire), la longueur d'un vecteur, et la multiplication par un scalaire :"
   ]
  },
  {
   "cell_type": "markdown",
   "metadata": {},
   "source": [
    "<!-- Equation labels as ordinary links -->\n",
    "<div id=\"_auto1\"></div>\n",
    "\n",
    "$$\n",
    "\\begin{equation}\n",
    "(a,b) + (c,d) = (a+c, b+d),\n",
    "\\label{_auto1} \\tag{1}\n",
    "\\end{equation}\n",
    "$$"
   ]
  },
  {
   "cell_type": "markdown",
   "metadata": {},
   "source": [
    "<!-- Equation labels as ordinary links -->\n",
    "<div id=\"_auto2\"></div>\n",
    "\n",
    "$$\n",
    "\\begin{equation} \n",
    "(a,b) - (c,d) = (a-c, b-d),\n",
    "\\label{_auto2} \\tag{2}\n",
    "\\end{equation}\n",
    "$$"
   ]
  },
  {
   "cell_type": "markdown",
   "metadata": {},
   "source": [
    "<!-- Equation labels as ordinary links -->\n",
    "<div id=\"_auto3\"></div>\n",
    "\n",
    "$$\n",
    "\\begin{equation} \n",
    "(a,b)\\cdot(c,d) = ac + bd,\n",
    "\\label{_auto3} \\tag{3}\n",
    "\\end{equation}\n",
    "$$"
   ]
  },
  {
   "cell_type": "markdown",
   "metadata": {},
   "source": [
    "<!-- Equation labels as ordinary links -->\n",
    "<div id=\"_auto4\"></div>\n",
    "\n",
    "$$\n",
    "\\begin{equation} \n",
    "||(a,b)|| = \\sqrt{(a,b)\\cdot(a,b)}.\n",
    "\\label{_auto4} \\tag{4}\n",
    "\\end{equation}\n",
    "$$"
   ]
  },
  {
   "cell_type": "markdown",
   "metadata": {},
   "source": [
    "De plus, deux vecteurs $(a,b)$ et $(c,d)$ sont égaux si $a=c$ et $b=d$.\n",
    "### Implémentation\n",
    "\n",
    "Nous pouvons créer une classe pour les vecteurs de plan où les opérations mathématiques ci-dessus sont mises en œuvre par des méthodes spéciales. La classe doit contenir deux attributs de données, un pour chaque composante du vecteur, appelés `x` et `y` ci-dessous. Nous incluons des méthodes spéciales pour l'addition, la soustraction, le produit scalaire (multiplication), la valeur absolue (longueur), la comparaison de deux vecteurs (`==` et `!=`), ainsi qu'une méthode pour imprimer un vecteur."
   ]
  },
  {
   "cell_type": "code",
   "execution_count": 18,
   "metadata": {
    "collapsed": false
   },
   "outputs": [],
   "source": [
    "import math as m\n",
    "class Vec2D(object):\n",
    "    def __init__(self, x, y):\n",
    "        self.x = x\n",
    "        self.y = y\n",
    "\n",
    "    def __add__(self, other):\n",
    "        return Vec2D(self.x + other.x, self.y + other.y)\n",
    "\n",
    "    def __sub__(self, other):\n",
    "        return Vec2D(self.x - other.x, self.y - other.y)\n",
    "\n",
    "    def __mul__(self, other):\n",
    "        return self.x*other.x + self.y*other.y\n",
    "\n",
    "    def __abs__(self):\n",
    "        return m.sqrt(self.x**2 + self.y**2)\n",
    "\n",
    "    def __eq__(self, other):\n",
    "        return self.x == other.x and self.y == other.y\n",
    "\n",
    "    def __str__(self):\n",
    "        return '({:g}, {:g})'.format(self.x, self.y)\n",
    "\n",
    "    def __ne__(self, other):\n",
    "        return not self.__eq__(other)  # réutiliser __eq__"
   ]
  },
  {
   "cell_type": "markdown",
   "metadata": {},
   "source": [
    "Les méthodes `__add__`, `__sub__`, `__mul__`, `__abs__`, et `__eq__` devraient être assez simples à comprendre d'après les définitions mathématiques précédentes de ces opérations. La dernière méthode mérite un commentaire : ici, nous réutilisons simplement l'opérateur d'égalité `__eq__`, mais nous le faisons précéder d'un non. Nous aurions également pu mettre en oeuvre cette méthode comme :"
   ]
  },
  {
   "cell_type": "markdown",
   "metadata": {},
   "source": [
    "```Python\n",
    "        def __ne__(self, autre):\n",
    "                return self.x != other.x or self.y != other.y\n",
    "```"
   ]
  },
  {
   "cell_type": "markdown",
   "metadata": {},
   "source": [
    "### Utilisation\n",
    "\n",
    "Prenons quelques objets Vec2D :"
   ]
  },
  {
   "cell_type": "code",
   "execution_count": 19,
   "metadata": {
    "collapsed": false
   },
   "outputs": [],
   "source": [
    "u = Vec2D(0,1)\n",
    "v = Vec2D(1,0)\n",
    "w = Vec2D(1,1)\n",
    "a = u + v\n",
    "print(a)"
   ]
  },
  {
   "cell_type": "code",
   "execution_count": 20,
   "metadata": {
    "collapsed": false
   },
   "outputs": [],
   "source": [
    "a == w"
   ]
  },
  {
   "cell_type": "code",
   "execution_count": 21,
   "metadata": {
    "collapsed": false
   },
   "outputs": [],
   "source": [
    "a = u - v\n",
    "print(a)"
   ]
  },
  {
   "cell_type": "code",
   "execution_count": 22,
   "metadata": {
    "collapsed": false
   },
   "outputs": [],
   "source": [
    "a = u*v\n",
    "print(a)"
   ]
  },
  {
   "cell_type": "code",
   "execution_count": 23,
   "metadata": {
    "collapsed": false
   },
   "outputs": [],
   "source": [
    "print(abs(u))"
   ]
  },
  {
   "cell_type": "code",
   "execution_count": 24,
   "metadata": {
    "collapsed": false
   },
   "outputs": [],
   "source": [
    "u == v"
   ]
  },
  {
   "cell_type": "code",
   "execution_count": 25,
   "metadata": {
    "collapsed": false
   },
   "outputs": [],
   "source": [
    "u != v"
   ]
  },
  {
   "cell_type": "markdown",
   "metadata": {},
   "source": [
    "Lorsque vous lisez cette présentation interactive, vous devez vérifier que le calcul est mathématiquement correct, que le type d'objet résultant d'un calcul est correct et que chaque calcul est effectué dans le programme. Ce dernier point est étudié en suivant le déroulement du programme à travers les méthodes de classe. À titre d'exemple, considérons l'expression `u != v`. Il s'agit d'une expression booléenne qui est `True` puisque u et v sont des vecteurs différents. Le type d'objet résultant doit être `bool`, avec des valeurs `True` ou `False`.\n",
    "\n",
    "# Héritage et polymorphisme\n",
    "Un avantage décisif de la POO est qu'une classe Python peut toujours être spécialisée en une classe **fille** qui **hérite** alors de tous les attributs (données et méthodes) de sa **super classe** (classe mère). Comme tous les attributs peuvent être redéfinis, une méthode de la classe fille et de la classe mère peut posséder le même nom, mais effectuer des traitements différents (**surcharge**) et l'objet s'adaptera dynamiquement, dès l'instanciation. En proposant d'utiliser un même nom de méthode pour plusieurs types d'objets différents, le **polymorphisme** permet une programmation beaucoup plus générique. Le développeur n'a pas à savoir, lorsqu'il programme une méthode, le type précis de l'objet sur lequel la méthode va s'appliquer. Il lui suffit de savoir que cet objet implémentera la méthode.\n",
    "\n",
    "L'héritage se fait ainsi selon la syntaxe suivante :"
   ]
  },
  {
   "cell_type": "markdown",
   "metadata": {},
   "source": [
    "```Python\n",
    "        class nom_sous_classe(nom_classe_mère):\n",
    "          #définir les attributs et les méthodes de la sous_classe\n",
    "```"
   ]
  },
  {
   "cell_type": "markdown",
   "metadata": {},
   "source": [
    "**Notice.**\n",
    "\n",
    "L'héritage est le mécanisme qui permet de se servir d'une classe préexistante pour en créer une nouvelle qui possédera des fonctionnalités supplémentaires ou différentes.\n",
    "\n",
    "Le *polymorphisme* par *dérivation* est la faculté pour deux méthodes (ou plus) portant le même nom, mais appartenant à des classes héritées distinctes d'effectuer un travail différent. Cette propriété est acquise par la technique de la **surcharge**.\n",
    "\n",
    "\n",
    "\n",
    "## Exemple d'héritage et de polymorphisme\n",
    "Dans l'exemple suivant, la classe `QuadrupedeDebout` hérite de la classe mère `Quadrupede`, et la méthode `piedsAuContactDuSol()` est polymorphe :"
   ]
  },
  {
   "cell_type": "code",
   "execution_count": 26,
   "metadata": {
    "collapsed": false
   },
   "outputs": [],
   "source": [
    "class Quadrupede:\n",
    "    def piedsAuContactDuSol(self):\n",
    "        return 4\n",
    "\n",
    "class QuadrupedeDebout(Quadrupede):\n",
    "    def piedsAuContactDuSol(self):\n",
    "        return 2"
   ]
  },
  {
   "cell_type": "markdown",
   "metadata": {},
   "source": [
    "<!-- dom:FIGURE: [scripts/classes_Quadrupede.png, width=150 frac=0.5] Diagramme de classe `Quadrupede` et sa fille `QuadrupedeDebout`. -->\n",
    "<!-- begin figure -->\n",
    "\n",
    "<p>Diagramme de classe <code>Quadrupede</code> et sa fille <code>QuadrupedeDebout</code>.</p>\n",
    "<img src=\"scripts/classes_Quadrupede.png\" width=150>\n",
    "\n",
    "<!-- end figure -->\n",
    "\n",
    "\n",
    "Voici un test simple de la façon dont ces classes `Quadrupede` et `QuadrupedeDebout` peuvent être utilisées :"
   ]
  },
  {
   "cell_type": "code",
   "execution_count": 27,
   "metadata": {
    "collapsed": false
   },
   "outputs": [],
   "source": [
    "chat = Quadrupede()\n",
    "chat.piedsAuContactDuSol()"
   ]
  },
  {
   "cell_type": "code",
   "execution_count": 28,
   "metadata": {
    "collapsed": false
   },
   "outputs": [],
   "source": [
    "homme = QuadrupedeDebout()\n",
    "homme.piedsAuContactDuSol()"
   ]
  },
  {
   "cell_type": "markdown",
   "metadata": {},
   "source": [
    "## Exemple d'héritage et de dérivation\n",
    "\n",
    "La dérivation décrit la création de sous-classes par spécialisation. Elle repose sur la relation « est-un ».\n",
    "\n",
    "On utilise dans ce cas le mécanisme de l'héritage.\n",
    "\n",
    "L'implémentation Python utilisée est généralement l'appel à l'initialisateur de la classe parente dans l'initialisateur de la classe dérivée (utilisation de la fonction `super()`).\n",
    "\n",
    "Dans l'exemple suivant, un **Carre** « est-un » **Rectangle** particulier pour lequel on appelle l'initialisateur de la classe mère avec les paramètres `longueur=cote` et `largeur=cote` :"
   ]
  },
  {
   "cell_type": "code",
   "execution_count": 29,
   "metadata": {
    "collapsed": false
   },
   "outputs": [],
   "source": [
    "class Rectangle:\n",
    "    def __init__(self, longueur=30, largeur=15):\n",
    "        self.L, self.l = longueur, largeur\n",
    "        self.nom = \"rectangle\"\n",
    "    def __str__(self):\n",
    "        return \"nom : {}\".format(self.nom)\n",
    "\n",
    "class Carre(Rectangle): # héritage simple\n",
    "    \"\"\"\n",
    "    Sous-classe spécialisée de la super-classe Rectangle.\n",
    "    \"\"\"\n",
    "    def __init__(self, cote=20):\n",
    "        # appel au constructeur de la super-classe de Carre :\n",
    "        super().__init__(cote, cote)\n",
    "        self.nom = \"carré\" # surcharge d'attribut"
   ]
  },
  {
   "cell_type": "markdown",
   "metadata": {},
   "source": [
    "L'utilisation est comme suivant :"
   ]
  },
  {
   "cell_type": "code",
   "execution_count": 30,
   "metadata": {
    "collapsed": false
   },
   "outputs": [],
   "source": [
    "r = Rectangle()\n",
    "c = Carre()\n",
    "print(r)"
   ]
  },
  {
   "cell_type": "code",
   "execution_count": 31,
   "metadata": {
    "collapsed": false
   },
   "outputs": [],
   "source": [
    "print(c)"
   ]
  },
  {
   "cell_type": "markdown",
   "metadata": {},
   "source": [
    "# Application : Création des classes Pile et File\n",
    "## La classe Pile\n",
    "### Définition d'une pile\n",
    "\n",
    "On rappelle qu'une pile est une structure de données qui suit le principe d'une pile d'assiettes, \"*le dernier arrivé est le premier sorti*\", on parle du mode **LIFO** (Last In First Out). L'insertion ou la suppression d'un élément ne peut se faire qu'à une seule extrémité, appelée sommet de la pile.\n",
    "\n",
    "Une pile est définie par les opérations suivantes :\n",
    "* **Empiler** : permet l'ajout d'un élément au sommet de la pile ;\n",
    "\n",
    "* **Dépiler** : permet la suppression de l'élément au sommet de la pile si elle n'est pas vide ;\n",
    "\n",
    "* **Vérifier** si une pile est vide ou non.\n",
    "\n",
    "### Implémentation d'une classe Pile\n",
    "\n",
    "La classe Pile est définie par :\n",
    "* L'attribut :\n",
    "\n",
    " * liste : initialisé par une liste vide\n",
    "\n",
    "\n",
    "* Les méthodes :\n",
    "\n",
    " * `empiler` : permet l'ajout d'un élément donné à la fin de l'attribut `liste`;\n",
    "\n",
    " * `depiler` : permet de supprimer et retourner le dernier élément de l'attribut `liste` s'il existe;\n",
    "\n",
    " * `est_vide` : permet de vérifier si l'attribut `liste` est vide ou non."
   ]
  },
  {
   "cell_type": "code",
   "execution_count": 32,
   "metadata": {
    "collapsed": false
   },
   "outputs": [],
   "source": [
    "class Pile:\n",
    "    def __init__(self) :\n",
    "        self.liste=[]\n",
    "    def empiler (self, v) :\n",
    "        self.liste.append(v)\n",
    "    def depiler(self) :\n",
    "        if self.est_vide() == False:\n",
    "            return self.liste.pop()\n",
    "    def est_vide(self) :\n",
    "        return self.liste == []\n",
    "    def __repr__(self):\n",
    "        return (str(self.liste))"
   ]
  },
  {
   "cell_type": "markdown",
   "metadata": {},
   "source": [
    "## La classe File\n",
    "### Définition d'une File\n",
    "\n",
    "On rappelle qu'une file est une structure de données qui suit le principe d'une file d'attente, \"le premier arrivé est le premier sorti\", on parle du mode **FIFO** (First In First Out).\n",
    "\n",
    "Une file est définie par les opérations suivantes :\n",
    "* **enfiler** : permet l'ajout d'un élément la fin de la file ;\n",
    "\n",
    "* **défiler** : permet la suppression de l'élément au début de la file si elle n'est pas vide;\n",
    "\n",
    "* **vérifier** si une file est vide ou non.\n",
    "\n",
    "### Implémentation d'une classe File\n",
    "\n",
    "La classe File est définie par :\n",
    "* L'attribut :\n",
    "\n",
    " * liste : initialisé par une liste vide\n",
    "\n",
    "\n",
    "* Les méthodes :\n",
    "\n",
    " * `enfiler` : permet l'ajout d'un élément donné à la fin de l'attribut `liste`;\n",
    "\n",
    " * `defiler` : permet de supprimer et retourner le premier élément de l’attribut `liste` s’il existe;\n",
    "\n",
    " * `est_vide` : permet de vérifier si l'attribut `liste` est vide ou non."
   ]
  },
  {
   "cell_type": "code",
   "execution_count": 33,
   "metadata": {
    "collapsed": false
   },
   "outputs": [],
   "source": [
    "class File:\n",
    "    def __init__(self) :\n",
    "        self.liste=[]\n",
    "    def enfiler (self, v) :\n",
    "        self.liste.append(v)\n",
    "    def defiler(self) :\n",
    "        if self.est_vide() == False:\n",
    "              return self.liste.pop(0)\n",
    "    def est_vide(self) :\n",
    "        return self.liste == []\n",
    "    def __repr__(self):\n",
    "        return (str(self.liste))"
   ]
  },
  {
   "cell_type": "markdown",
   "metadata": {},
   "source": [
    "## Exemple d'inversion d'une pile\n",
    "Il s'agit d’écrire une fonction `Inverser(p)` qui permet d’inverser une pile `p` :\n",
    "* avec utilisation d'une file intermédiaire ;\n",
    "\n",
    "* sans utilisation d'une file intermédiaire."
   ]
  },
  {
   "cell_type": "code",
   "execution_count": 34,
   "metadata": {
    "collapsed": false
   },
   "outputs": [],
   "source": [
    "# en utilisant une file intermédiaire\n",
    "def Inverser(p):\n",
    "    f1 = File()\n",
    "    while not p.est_vide():\n",
    "        f1.enfiler(p.depiler())\n",
    "    while not f1.est_vide():\n",
    "        p.empiler(f1.defiler())"
   ]
  },
  {
   "cell_type": "code",
   "execution_count": 35,
   "metadata": {
    "collapsed": false
   },
   "outputs": [],
   "source": [
    "p = Pile()\n",
    "p.empiler(2)\n",
    "p.empiler(6)\n",
    "p.empiler(8)\n",
    "p"
   ]
  },
  {
   "cell_type": "code",
   "execution_count": 36,
   "metadata": {
    "collapsed": false
   },
   "outputs": [],
   "source": [
    "Inverser(p)\n",
    "p"
   ]
  },
  {
   "cell_type": "markdown",
   "metadata": {},
   "source": [
    "3\n",
    "1\n",
    " \n",
    "<\n",
    "<\n",
    "<\n",
    "!\n",
    "!\n",
    "C\n",
    "O\n",
    "D\n",
    "E\n",
    "_\n",
    "B\n",
    "L\n",
    "O\n",
    "C\n",
    "K\n",
    " \n",
    " \n",
    "p\n",
    "y\n",
    "c\n",
    "o\n",
    "d"
   ]
  },
  {
   "cell_type": "code",
   "execution_count": 37,
   "metadata": {
    "collapsed": false
   },
   "outputs": [],
   "source": [
    "print(p)"
   ]
  },
  {
   "cell_type": "code",
   "execution_count": 38,
   "metadata": {
    "collapsed": false
   },
   "outputs": [],
   "source": [
    "Inverser(p)\n",
    "print(p)"
   ]
  }
 ],
 "metadata": {},
 "nbformat": 4,
 "nbformat_minor": 4
}
