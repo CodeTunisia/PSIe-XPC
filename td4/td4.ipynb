{
 "cells": [
  {
   "cell_type": "markdown",
   "metadata": {},
   "source": [
    "<!-- dom:TITLE: TD 4 : POO avec Python -->\n",
    "# TD 4 : POO avec Python\n",
    "<!-- dom:AUTHOR: Ahmed Ammar at Institut Préparatoire aux Études Scientifiques et Techniques, Université de Carthage. -->\n",
    "<!-- Author: -->  \n",
    "**Ahmed Ammar**, Institut Préparatoire aux Études Scientifiques et Techniques, Université de Carthage.\n",
    "\n",
    "\n",
    "Date: **Nov 15, 2020**\n",
    "\n",
    "<!-- --- begin exercise --- -->\n",
    "\n",
    "## Exercise 1: Point dans un espace à 2 dimensions\n",
    "\n",
    "Écrire la définition d'une classe `Point`. Les objets de cette classe doivent avoir :\n",
    "* une méthode `show` pour afficher les coordonnées du point;\n",
    "\n",
    "* une méthode `move` pour modifier ces coordonnées;\n",
    "\n",
    "* une méthode `dist` qui calcule la distance entre 2 points.\n",
    "\n",
    "**Notice.**\n",
    "\n",
    "la distance entre 2 points $A(x_0, y_0)$ et $B(x_1, y_1)$ peut être calculée"
   ]
  },
  {
   "cell_type": "markdown",
   "metadata": {},
   "source": [
    "<!-- Equation labels as ordinary links -->\n",
    "<div id=\"_auto1\"></div>\n",
    "\n",
    "$$\n",
    "\\begin{equation}\n",
    "d(AB) = \\sqrt{(x_1-x_0))^2 + (y_1-y_0)^2}\n",
    "\\label{_auto1} \\tag{1}\n",
    "\\end{equation}\n",
    "$$"
   ]
  },
  {
   "cell_type": "markdown",
   "metadata": {},
   "source": [
    "Le code Python suivant fournit un exemple du comportement attendu des objets appartenant à cette classe :"
   ]
  },
  {
   "cell_type": "markdown",
   "metadata": {},
   "source": [
    "```Python\n",
    ">>> p1 = Point(2, 3)\n",
    ">>> p2 = Point(3, 3)\n",
    ">>> p1.show()\n",
    "(2, 3)\n",
    ">>> p2.show()\n",
    "(3, 3)\n",
    ">>> p1.move(10, -10)\n",
    ">>> p1.show()\n",
    "(12, -7)\n",
    ">>> p2.show()\n",
    "(3, 3)\n",
    ">>> p1.dist(p2)\n",
    "1.0\n",
    "```"
   ]
  },
  {
   "cell_type": "code",
   "execution_count": null,
   "metadata": {},
   "outputs": [],
   "source": [
    "# Écrivez la solution ici\n",
    "\n"
   ]
  },
  {
   "cell_type": "markdown",
   "metadata": {},
   "source": [
    "\n",
    "<!-- --- end exercise --- -->\n",
    "\n",
    "\n",
    "\n",
    "\n",
    "<!-- --- begin exercise --- -->\n",
    "\n",
    "## Exercise 2: Classe rectangle\n",
    "\n",
    "Q1. Écrire une classe `Rectangle` en langage Python, vous permettant de construire un rectangle avec des attributs `longueur` et `largeur`.\n",
    "\n",
    "Q2. Créer une méthode de `perimetre()` pour calculer le périmètre du rectangle et une méthode de aire pour calculer l'aire du rectangle.\n",
    "\n",
    "Q3. Créer une méthode `affiche()` qui affiche la longueur, la largeur, le périmètre et la surface d'un objet créé à l'aide de l'instanciation sur la classe `Rectangle`.\n",
    "\n",
    "Q4. Créer une classe fille `Parallelepipede` héritant de la classe `Rectangle` et ayant un attribut `hauteur` et une autre méthode `volume()` pour calculer le volume du parallélépipède.\n",
    "\n"
   ]
  },
  {
   "cell_type": "code",
   "execution_count": null,
   "metadata": {},
   "outputs": [],
   "source": [
    "# Écrivez la solution ici\n",
    "\n"
   ]
  },
  {
   "cell_type": "markdown",
   "metadata": {},
   "source": [
    "\n",
    "<!-- --- end exercise --- -->\n",
    "\n",
    "\n",
    "\n",
    "\n",
    "<!-- --- begin exercise --- -->\n",
    "\n",
    "## Exercise 3: Arithmétique d'intervalles\n",
    "\n",
    "Pensez à mesurer l'accélération de la pesanteur en laissant tomber une balle et en enregistrant le temps qu'il faut pour atteindre le sol. Laissez le sol correspondre à $y=0$ et laissez la balle tomber à partir de $y=y_0$. La position de la balle, $y(t)$, est alors"
   ]
  },
  {
   "cell_type": "markdown",
   "metadata": {},
   "source": [
    "$$\n",
    "y(t) = y_0 - \\frac{1}{2}gt^2 \\thinspace .\n",
    "$$"
   ]
  },
  {
   "cell_type": "markdown",
   "metadata": {},
   "source": [
    "Si $T$ est le temps qu'il faut pour atteindre le sol, nous avons $y(T)=0$, ce qui donne l'équation $\\frac{1}{2}gT^2=y_0$ avec la solution"
   ]
  },
  {
   "cell_type": "markdown",
   "metadata": {},
   "source": [
    "$$\n",
    "g = 2y_0/T^2 \\thinspace .\n",
    "$$"
   ]
  },
  {
   "cell_type": "markdown",
   "metadata": {},
   "source": [
    "Dans de telles expériences, nous introduisons toujours une certaine erreur de mesure dans la position de départ $y_0$ et dans le temps de prise ($T$). Supposons que l'on sache que $y_0$ se trouve à $[0.99,1.01]$ m et $T$ à $[0.43,0.47]$ s, ce qui correspond à une erreur de mesure de $2 \\%$ dans la position et à une erreur de $10 \\%$ dans l'utilisation d'un chronomètre. Quelle est l'erreur en g ? Avec l'outil qui sera développé ci-dessous, nous pouvons constater qu'il y a une erreur de $22 \\%$ en g.\n",
    "\n",
    "### Problème\n",
    "\n",
    "Supposons que deux nombres $p$ et $q$ sont garantis de se trouver à l'intérieur d'un intervalle,"
   ]
  },
  {
   "cell_type": "markdown",
   "metadata": {},
   "source": [
    "$$\n",
    "p=[a,b], \\quad q = [c, d] \\thinspace .\n",
    "$$"
   ]
  },
  {
   "cell_type": "markdown",
   "metadata": {},
   "source": [
    "La somme $p+q$ est alors garantie de se situer dans un intervalle $[s,t]$ où $s=a+c$ et $t=b+d$. Nous énumérons ci-dessous les règles de *l'arithmétique des intervalles*, c'est-à-dire les règles d'addition, de soustraction, de multiplication et de division de deux intervalles :\n",
    "* $p+q=[a+c,b+d]$;\n",
    "\n",
    "* $p-q=[a-d,b-c]$;\n",
    "\n",
    "* $pq=[min(ac,ad,bc,bd),max(ac,ad,bc,bd)]$;\n",
    "\n",
    "* $p/q=[min(a/c,a/d,b/c,b/d),max(a/c,a/d,b/c,b/d)]$ à condition que $[c,d]$ ne contienne pas zéro.\n",
    "\n",
    "Pour effectuer ces calculs dans un programme, il serait naturel de disposer d'un nouveau type pour les quantités spécifiées par intervalles. Ce nouveau type devrait prendre en charge les opérateurs `+`, `-`, `*`, et `/` selon les règles ci-dessus.\n",
    "\n",
    "**Q1.** Implémenter une classe `IntervalMath` pour l'arithmétique des intervalles qui prend comme attributs `lower` et `upper` pour respectivement les parties inférieure et supérieure de l'intervalle ainsi que des méthodes spéciales pour les opérateurs arithmétiques.\n",
    "\n",
    "**Q2.** Montrer qu'une démo rapide de la classe `IntervalMath` pour $a = [-3,-2]$ et b = $[4, 5]$ donne :"
   ]
  },
  {
   "cell_type": "markdown",
   "metadata": {},
   "source": [
    "        a + b =  [1, 3]\n",
    "        a - b =  [-8, -6]\n",
    "        a * b =  [-15, -8]\n",
    "        a / b =  [-0.75, -0.4]\n"
   ]
  },
  {
   "cell_type": "markdown",
   "metadata": {},
   "source": [
    "**Q3.** Pour $a = [-3,-2]$, calculez $2 * a$ et essayez d'expliquer l'erreur qui s'est produite. Comment corriger cette erreur ?\n",
    "\n",
    "**Q4.** En utilisant la classe `IntervalMath`, estimer l'incertitude la formule de l'accélération de la pesanteur, $g=2y_0/T^{2}$, étant donné une incertitude de $2 \\%$ dans $y_0$ : $y_0=[0.99,1.01]$, et une incertitude de $10 \\%$ dans $T$ : $T=[T_m \\cdot 0.95,T_m \\cdot 1.05]$, avec $T_m=0.45$.\n",
    "\n",
    "**Q.5** Écrire une méthode `moyenne` pour calculer la valeur moyenne de $g$.\n",
    "\n"
   ]
  },
  {
   "cell_type": "code",
   "execution_count": null,
   "metadata": {},
   "outputs": [],
   "source": [
    "# Écrivez la solution ici\n",
    "\n"
   ]
  },
  {
   "cell_type": "markdown",
   "metadata": {},
   "source": [
    "\n",
    "<!-- --- end exercise --- -->"
   ]
  }
 ],
 "metadata": {
  "kernelspec": {
   "display_name": "Python 3",
   "language": "python",
   "name": "python3"
  },
  "language_info": {
   "codemirror_mode": {
    "name": "ipython",
    "version": 3
   },
   "file_extension": ".py",
   "mimetype": "text/x-python",
   "name": "python",
   "nbconvert_exporter": "python",
   "pygments_lexer": "ipython3",
   "version": "3.7.6"
  }
 },
 "nbformat": 4,
 "nbformat_minor": 4
}
