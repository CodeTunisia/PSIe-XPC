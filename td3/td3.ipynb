{
 "cells": [
  {
   "cell_type": "markdown",
   "metadata": {},
   "source": [
    "## Exercice 2 : Expression bien parenthésée\n",
    "**Objectifs :** déterminer si les parenthèses d'une expression sont placées de façon cohérente.\n",
    "\n",
    "Voici des exemples d'expressions bien et mal parenthésées :\n",
    "\n",
    "* `2+(3+b)*(5+(a-4))` est correctement parenthésée ;\n",
    "* `(a+8)*3)+4` est mal parenthésée : il y a une parenthèse fermante \"`)`\" seule ;\n",
    "* `(b+8/5))+(4` est mal parenthésée : il y a autant de parenthèses ouvrantes \"`(`\" que de parenthèses fermantes \"`)`\" mais elles sont mal positionnées.\n",
    "\n",
    "Pour contrôler le parenthésage d'une expression, il s'agit de vérifier que chaque parenthèse fermante est associée à une parenthèse ouvrante située à sa gauche et que toutes les parenthèses ouvrantes sont refermées. D'où l'idée d'utiliser une pile : on parcourt de gauche à droite la chaîne représentant l'expression et on empile les positions des parenthèses ouvrantes. Lorsqu'on rencontre une parenthèse fermante, on dépile, le sommet de la pile étant alors la position de la parenthèse ouvrante associée (en option, on peut afficher le couple des positions des deux parenthèses associées).\n",
    "\n",
    "Programmer ce contrôle en une fonction Python `tester(ep)`, avec `ep` est la chaîne représentant l'expression. N'oublier pas de gérer les erreurs !"
   ]
  },
  {
   "cell_type": "code",
   "execution_count": 1,
   "metadata": {},
   "outputs": [
    {
     "name": "stdout",
     "output_type": "stream",
     "text": [
      "[]\n"
     ]
    }
   ],
   "source": [
    "from pile import *\n",
    "\n",
    "p = creer_pile()\n",
    "print(p)\n",
    "\n",
    "\n",
    "\n",
    "\n",
    "\n",
    "\n"
   ]
  },
  {
   "cell_type": "code",
   "execution_count": null,
   "metadata": {},
   "outputs": [],
   "source": []
  }
 ],
 "metadata": {
  "kernelspec": {
   "display_name": "Python 3",
   "language": "python",
   "name": "python3"
  },
  "language_info": {
   "codemirror_mode": {
    "name": "ipython",
    "version": 3
   },
   "file_extension": ".py",
   "mimetype": "text/x-python",
   "name": "python",
   "nbconvert_exporter": "python",
   "pygments_lexer": "ipython3",
   "version": "3.7.6"
  }
 },
 "nbformat": 4,
 "nbformat_minor": 4
}
